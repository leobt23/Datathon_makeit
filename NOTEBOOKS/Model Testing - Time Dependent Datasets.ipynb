{
 "cells": [
  {
   "cell_type": "code",
   "execution_count": 1,
   "id": "db41e581",
   "metadata": {},
   "outputs": [],
   "source": [
    "#pip install pydot"
   ]
  },
  {
   "cell_type": "markdown",
   "id": "c01843d9",
   "metadata": {},
   "source": [
    "# Import Libraries"
   ]
  },
  {
   "cell_type": "code",
   "execution_count": 2,
   "id": "282512a3",
   "metadata": {},
   "outputs": [
    {
     "name": "stderr",
     "output_type": "stream",
     "text": [
      "2023-02-18 00:27:11.343159: I tensorflow/core/platform/cpu_feature_guard.cc:193] This TensorFlow binary is optimized with oneAPI Deep Neural Network Library (oneDNN) to use the following CPU instructions in performance-critical operations:  AVX2 FMA\n",
      "To enable them in other operations, rebuild TensorFlow with the appropriate compiler flags.\n"
     ]
    }
   ],
   "source": [
    "import numpy as np\n",
    "import pandas as pd\n",
    "import matplotlib.pyplot as plt\n",
    "import seaborn as sns\n",
    "\n",
    "# METRICS\n",
    "from sklearn.metrics import f1_score\n",
    "\n",
    "# TRAIN TEST SPLIT\n",
    "from sklearn.model_selection import train_test_split\n",
    "\n",
    "# SCALING\n",
    "from sklearn.preprocessing import StandardScaler\n",
    "\n",
    "# TENSORFLOW\n",
    "import tensorflow as tf\n",
    "from tensorflow import keras\n",
    "from tensorflow.keras import layers\n",
    "from tensorflow.keras.models import Sequential\n",
    "from tensorflow.keras.layers import Dense\n",
    "from tensorflow.keras.layers import LSTM\n",
    "from tensorflow.keras.layers import Embedding\n",
    "from tensorflow.keras.preprocessing import sequence"
   ]
  },
  {
   "cell_type": "markdown",
   "id": "cb728882",
   "metadata": {},
   "source": [
    "## Load Data"
   ]
  },
  {
   "cell_type": "code",
   "execution_count": 3,
   "id": "98f6f13b",
   "metadata": {},
   "outputs": [],
   "source": [
    "data_path='../MATERIALS/DATA/processed_data/transaction_data.csv'\n",
    "df       =pd.read_csv(data_path).drop('Unnamed: 0', axis=1)"
   ]
  },
  {
   "cell_type": "code",
   "execution_count": 4,
   "id": "21f05fa2",
   "metadata": {},
   "outputs": [
    {
     "data": {
      "text/plain": [
       "array([2022])"
      ]
     },
     "execution_count": 4,
     "metadata": {},
     "output_type": "execute_result"
    }
   ],
   "source": [
    "data=pd.to_datetime(df.DATA)\n",
    "np.unique(data.dt.year) # ONLY ONE YEAR!"
   ]
  },
  {
   "cell_type": "code",
   "execution_count": 5,
   "id": "28f9e27f",
   "metadata": {},
   "outputs": [],
   "source": [
    "df['DATA']=data"
   ]
  },
  {
   "cell_type": "markdown",
   "id": "6067358f",
   "metadata": {},
   "source": [
    "# Further Time Series Data Processing"
   ]
  },
  {
   "cell_type": "markdown",
   "id": "117b29f4",
   "metadata": {},
   "source": [
    "Idea is to have a DataFrame for each client where every row is the sum of all variables within a week. \n",
    "\n",
    "We must add ghost rows on each 1st day of the week, to make sure all DataFrames have the same size."
   ]
  },
  {
   "cell_type": "code",
   "execution_count": 6,
   "id": "3d0d4773",
   "metadata": {},
   "outputs": [],
   "source": [
    "FREQUENCY='w'"
   ]
  },
  {
   "cell_type": "code",
   "execution_count": 7,
   "id": "a19d0fec",
   "metadata": {},
   "outputs": [],
   "source": [
    "ghost_index=pd.date_range(start='2022-01-01', end='2022-05-1', freq=FREQUENCY)"
   ]
  },
  {
   "cell_type": "markdown",
   "id": "2a630277",
   "metadata": {},
   "source": [
    "Start be creating a DataFrame for each client"
   ]
  },
  {
   "cell_type": "code",
   "execution_count": 8,
   "id": "156acdb2",
   "metadata": {},
   "outputs": [],
   "source": [
    "client_dataframes=dict()\n",
    "client_target    =dict()\n",
    "unique_clients   = np.unique(df.ID)\n",
    "\n",
    "for client_ID in unique_clients:\n",
    "    client_dataframes[client_ID]=df[df.ID==client_ID].set_index('DATA').drop(['ID', 'target'], axis=1)\n",
    "    client_target[client_ID]=np.mean(df[df.ID==client_ID].target).astype(int)"
   ]
  },
  {
   "cell_type": "code",
   "execution_count": 9,
   "id": "3002011c",
   "metadata": {},
   "outputs": [],
   "source": [
    "#TEST TO GET START AND END DAY OF COUNTING\n",
    "#client=client_dataframes[171]\n",
    "#client.sort_values(by='DATA').index[-1]"
   ]
  },
  {
   "cell_type": "markdown",
   "id": "c47fcfed",
   "metadata": {},
   "source": [
    "Finally, resample on a weekly basis"
   ]
  },
  {
   "cell_type": "code",
   "execution_count": 10,
   "id": "b628a49b",
   "metadata": {},
   "outputs": [],
   "source": [
    "# TAKES TOO LONG TO RUN - POORLY OPTIMIZED CODE\n",
    "for client_ID in unique_clients:\n",
    "    client=client_dataframes[client_ID]\n",
    "    for index in ghost_index:\n",
    "        client.loc[len(client)] = 0                             # Adds ghost row on index=len(client)\n",
    "        client.rename(index={len(client)-1:index},inplace=True) # Changes ghost row index to time data\n",
    "    client_dataframes[client_ID]=client.resample(FREQUENCY).sum()"
   ]
  },
  {
   "cell_type": "markdown",
   "id": "593e2612",
   "metadata": {},
   "source": [
    "Check all client DataFrames have same dimentions"
   ]
  },
  {
   "cell_type": "code",
   "execution_count": 11,
   "id": "c3524cdc",
   "metadata": {},
   "outputs": [
    {
     "data": {
      "text/plain": [
       "0"
      ]
     },
     "execution_count": 11,
     "metadata": {},
     "output_type": "execute_result"
    }
   ],
   "source": [
    "check=client_dataframes[1].shape\n",
    "\n",
    "sum([client_dataframes[client_ID].shape!=check for client_ID in unique_clients])"
   ]
  },
  {
   "cell_type": "markdown",
   "id": "0ebb8819",
   "metadata": {},
   "source": [
    "save DataFrame as .csv"
   ]
  },
  {
   "cell_type": "code",
   "execution_count": 12,
   "id": "5c12db6f",
   "metadata": {},
   "outputs": [],
   "source": [
    "dataset_time=pd.DataFrame({})\n",
    "\n",
    "for client_ID in unique_clients:\n",
    "    \n",
    "    client=client_dataframes[client_ID]\n",
    "    client[['ID', 'target']]=[client_ID, client_target[client_ID]]\n",
    "    \n",
    "    frames = [dataset_time, client]\n",
    "    dataset_time = pd.concat(frames)"
   ]
  },
  {
   "cell_type": "code",
   "execution_count": 13,
   "id": "f1208043",
   "metadata": {},
   "outputs": [],
   "source": [
    "dataset_time.reset_index(inplace=True)\n",
    "dataset_time.index=dataset_time.ID\n",
    "dataset_time.drop('ID', inplace=True, axis=1)"
   ]
  },
  {
   "cell_type": "code",
   "execution_count": 14,
   "id": "99e9b36d",
   "metadata": {},
   "outputs": [],
   "source": [
    "dataset_time.to_csv('../MATERIALS/DATA/processed_data/processed_time_dataset.csv')"
   ]
  },
  {
   "cell_type": "markdown",
   "id": "dee81c84",
   "metadata": {},
   "source": [
    "## Train Test Split (Data not Shuffled)"
   ]
  },
  {
   "cell_type": "code",
   "execution_count": 15,
   "id": "7686ed0c",
   "metadata": {},
   "outputs": [],
   "source": [
    "train_size=int(len(client_dataframes)*0.8)\n",
    "\n",
    "#IF WE WANT TO SHUFFLE\n",
    "\n",
    "#idx = np.random.permutation(len(x_train))\n",
    "#x_train = x_train[idx]\n",
    "#y_train = y_train[idx]\n",
    "\n",
    "X_train=[client_dataframes[i].drop(['ID', 'target'], axis=1) for i in list(client_dataframes.keys())[:train_size]]\n",
    "y_train=[int(np.mean(client_dataframes[i].target)) for i in list(client_dataframes.keys())[:train_size]]\n",
    "\n",
    "X_test=[client_dataframes[i].drop(['ID', 'target'], axis=1) for i in list(client_dataframes.keys())[train_size:]]\n",
    "y_test=[int(np.mean(client_dataframes[i].target)) for i in list(client_dataframes.keys())[train_size:]]\n",
    "\n",
    "# PUT ON RIGHT FORMAT\n",
    "X_train=np.array([np.array(x) for x in X_train])\n",
    "X_test=np.array([np.array(x) for x in X_test])\n",
    "\n",
    "y_train=np.array(y_train)\n",
    "y_test=np.array(y_test)\n",
    "\n",
    "\n",
    "## STANDARDIZE (OPTIONAL)\n",
    "# define standard scaler\n",
    "#scaler = StandardScaler()\n",
    "#scaler.fit(X)\n",
    "# transform data\n",
    "#\n",
    "#X_train=scaler.transform(X_train)\n",
    "#X_test=scaler.transform(X_test)"
   ]
  },
  {
   "cell_type": "markdown",
   "id": "1248be20",
   "metadata": {},
   "source": [
    "# Metrics for Keras"
   ]
  },
  {
   "cell_type": "code",
   "execution_count": 16,
   "id": "a0ea4ab6",
   "metadata": {},
   "outputs": [],
   "source": [
    "from keras import backend as K\n",
    "\n",
    "def recall_m(y_true, y_pred):\n",
    "    true_positives = K.sum(K.round(K.clip(y_true * y_pred, 0, 1)))\n",
    "    possible_positives = K.sum(K.round(K.clip(y_true, 0, 1)))\n",
    "    recall = true_positives / (possible_positives + K.epsilon())\n",
    "    return recall\n",
    "\n",
    "def precision_m(y_true, y_pred):\n",
    "    true_positives = K.sum(K.round(K.clip(y_true * y_pred, 0, 1)))\n",
    "    predicted_positives = K.sum(K.round(K.clip(y_pred, 0, 1)))\n",
    "    precision = true_positives / (predicted_positives + K.epsilon())\n",
    "    return precision\n",
    "\n",
    "def f1_m(y_true, y_pred):\n",
    "    precision = precision_m(y_true, y_pred)\n",
    "    recall = recall_m(y_true, y_pred)\n",
    "    return 2*((precision*recall)/(precision+recall+K.epsilon()))"
   ]
  },
  {
   "cell_type": "markdown",
   "id": "a03822b9",
   "metadata": {},
   "source": [
    "# LSTM Classifier Model"
   ]
  },
  {
   "cell_type": "markdown",
   "id": "f942b7f0",
   "metadata": {},
   "source": [
    "Find explanation [here](http://colah.github.io/posts/2015-08-Understanding-LSTMs/)\n",
    "\n",
    "More code [here](https://machinelearningmastery.com/sequence-classification-lstm-recurrent-neural-networks-python-keras/)\n",
    "\n",
    "Imbalanced Dataset [here](https://www.tensorflow.org/tutorials/structured_data/imbalanced_data)"
   ]
  },
  {
   "cell_type": "code",
   "execution_count": 17,
   "id": "409d96ef",
   "metadata": {},
   "outputs": [
    {
     "name": "stdout",
     "output_type": "stream",
     "text": [
      "Weight for class 0: 0.82\n",
      "Weight for class 1: 1.28\n"
     ]
    }
   ],
   "source": [
    "# INITIAL BIAS to deal with data imbalance - OPTIONAL\n",
    "total = len(client_target)\n",
    "pos   = np.sum(list(client_target.values()))\n",
    "neg   = total - pos\n",
    "\n",
    "initial_bias = np.log([pos/neg])\n",
    "\n",
    "output_bias = tf.keras.initializers.Constant(initial_bias)\n",
    "\n",
    "# CLASS WEIGHTS to deal with data imbalance - OPTIONAL. CHECK IF NEEDED\n",
    "\n",
    "# Scaling by total/2 helps keep the loss to a similar magnitude.\n",
    "# The sum of the weights of all examples stays the same.\n",
    "weight_for_0 = (1 / neg) * (total / 2.0)\n",
    "weight_for_1 = (1 / pos) * (total / 2.0)\n",
    "\n",
    "class_weight = {0: weight_for_0, 1: weight_for_1}\n",
    "\n",
    "print('Weight for class 0: {:.2f}'.format(weight_for_0))\n",
    "print('Weight for class 1: {:.2f}'.format(weight_for_1))"
   ]
  },
  {
   "cell_type": "code",
   "execution_count": 18,
   "id": "af814bcb",
   "metadata": {},
   "outputs": [
    {
     "data": {
      "text/plain": [
       "(1248, 18, 33)"
      ]
     },
     "execution_count": 18,
     "metadata": {},
     "output_type": "execute_result"
    }
   ],
   "source": [
    "X_train.shape\n",
    "#X_train = X_train.reshape(1248, 18, 28)"
   ]
  },
  {
   "cell_type": "code",
   "execution_count": 19,
   "id": "8323b604",
   "metadata": {},
   "outputs": [
    {
     "name": "stdout",
     "output_type": "stream",
     "text": [
      "Epoch 1/100\n"
     ]
    },
    {
     "name": "stderr",
     "output_type": "stream",
     "text": [
      "2023-02-18 00:29:14.582910: I tensorflow/core/platform/cpu_feature_guard.cc:193] This TensorFlow binary is optimized with oneAPI Deep Neural Network Library (oneDNN) to use the following CPU instructions in performance-critical operations:  AVX2 FMA\n",
      "To enable them in other operations, rebuild TensorFlow with the appropriate compiler flags.\n"
     ]
    },
    {
     "name": "stdout",
     "output_type": "stream",
     "text": [
      "36/36 [==============================] - 6s 74ms/step - loss: 0.6614 - accuracy: 0.6135 - f1_m: 0.0952 - val_loss: 0.7978 - val_accuracy: 0.4720 - val_f1_m: 0.0000e+00\n",
      "Epoch 2/100\n",
      "36/36 [==============================] - 2s 49ms/step - loss: 0.6497 - accuracy: 0.6474 - f1_m: 0.0676 - val_loss: 0.7469 - val_accuracy: 0.4800 - val_f1_m: 0.0838\n",
      "Epoch 3/100\n",
      "36/36 [==============================] - 2s 49ms/step - loss: 0.6432 - accuracy: 0.6545 - f1_m: 0.0796 - val_loss: 0.7659 - val_accuracy: 0.4880 - val_f1_m: 0.0806\n",
      "Epoch 4/100\n",
      "36/36 [==============================] - 2s 49ms/step - loss: 0.6330 - accuracy: 0.6563 - f1_m: 0.0802 - val_loss: 0.7642 - val_accuracy: 0.4720 - val_f1_m: 0.1039\n",
      "Epoch 5/100\n",
      "36/36 [==============================] - 2s 49ms/step - loss: 0.6354 - accuracy: 0.6518 - f1_m: 0.0791 - val_loss: 0.7318 - val_accuracy: 0.4560 - val_f1_m: 0.0776\n",
      "Epoch 6/100\n",
      "36/36 [==============================] - 2s 51ms/step - loss: 0.6297 - accuracy: 0.6661 - f1_m: 0.1628 - val_loss: 0.7482 - val_accuracy: 0.4640 - val_f1_m: 0.0806\n",
      "Epoch 7/100\n",
      "36/36 [==============================] - 2s 49ms/step - loss: 0.6211 - accuracy: 0.6705 - f1_m: 0.1493 - val_loss: 0.7734 - val_accuracy: 0.4640 - val_f1_m: 0.0544\n",
      "Epoch 8/100\n",
      "36/36 [==============================] - 3s 72ms/step - loss: 0.6215 - accuracy: 0.6634 - f1_m: 0.1415 - val_loss: 0.7493 - val_accuracy: 0.4560 - val_f1_m: 0.1425\n",
      "Epoch 9/100\n",
      "36/36 [==============================] - 3s 80ms/step - loss: 0.6194 - accuracy: 0.6661 - f1_m: 0.2155 - val_loss: 0.7793 - val_accuracy: 0.4880 - val_f1_m: 0.1543\n",
      "Epoch 10/100\n",
      "36/36 [==============================] - 3s 78ms/step - loss: 0.6149 - accuracy: 0.6723 - f1_m: 0.2068 - val_loss: 0.7414 - val_accuracy: 0.4640 - val_f1_m: 0.1697\n",
      "Epoch 11/100\n",
      "36/36 [==============================] - 2s 51ms/step - loss: 0.6124 - accuracy: 0.6589 - f1_m: 0.2225 - val_loss: 0.7251 - val_accuracy: 0.5360 - val_f1_m: 0.3684\n",
      "Epoch 12/100\n",
      "36/36 [==============================] - 2s 51ms/step - loss: 0.5996 - accuracy: 0.6839 - f1_m: 0.2304 - val_loss: 0.7311 - val_accuracy: 0.5280 - val_f1_m: 0.3300\n",
      "Epoch 13/100\n",
      "36/36 [==============================] - 2s 53ms/step - loss: 0.5993 - accuracy: 0.6705 - f1_m: 0.2492 - val_loss: 0.7298 - val_accuracy: 0.5200 - val_f1_m: 0.3310\n",
      "Epoch 14/100\n",
      "36/36 [==============================] - 2s 52ms/step - loss: 0.6062 - accuracy: 0.6794 - f1_m: 0.3071 - val_loss: 0.7548 - val_accuracy: 0.5280 - val_f1_m: 0.3341\n",
      "Epoch 15/100\n",
      "36/36 [==============================] - 2s 49ms/step - loss: 0.6128 - accuracy: 0.6714 - f1_m: 0.3134 - val_loss: 0.7969 - val_accuracy: 0.4880 - val_f1_m: 0.1819\n",
      "Epoch 16/100\n",
      "36/36 [==============================] - 2s 51ms/step - loss: 0.6074 - accuracy: 0.6732 - f1_m: 0.2935 - val_loss: 0.7992 - val_accuracy: 0.4480 - val_f1_m: 0.0981\n",
      "Epoch 17/100\n",
      "36/36 [==============================] - 2s 48ms/step - loss: 0.6043 - accuracy: 0.6768 - f1_m: 0.2358 - val_loss: 0.7386 - val_accuracy: 0.5360 - val_f1_m: 0.3314\n",
      "Epoch 18/100\n",
      "36/36 [==============================] - 2s 49ms/step - loss: 0.6045 - accuracy: 0.6768 - f1_m: 0.3329 - val_loss: 0.7700 - val_accuracy: 0.5200 - val_f1_m: 0.3292\n",
      "Epoch 19/100\n",
      "36/36 [==============================] - 2s 48ms/step - loss: 0.6081 - accuracy: 0.6687 - f1_m: 0.2942 - val_loss: 0.7703 - val_accuracy: 0.5600 - val_f1_m: 0.4016\n",
      "Epoch 20/100\n",
      "36/36 [==============================] - 2s 58ms/step - loss: 0.5942 - accuracy: 0.6812 - f1_m: 0.3423 - val_loss: 0.7687 - val_accuracy: 0.5600 - val_f1_m: 0.3972\n",
      "Epoch 21/100\n",
      "36/36 [==============================] - 2s 69ms/step - loss: 0.5906 - accuracy: 0.6812 - f1_m: 0.3074 - val_loss: 0.7583 - val_accuracy: 0.5200 - val_f1_m: 0.3486\n",
      "Epoch 22/100\n",
      "36/36 [==============================] - 2s 49ms/step - loss: 0.5932 - accuracy: 0.6919 - f1_m: 0.3444 - val_loss: 0.7682 - val_accuracy: 0.5360 - val_f1_m: 0.3767\n",
      "Epoch 23/100\n",
      "36/36 [==============================] - 2s 52ms/step - loss: 0.5927 - accuracy: 0.6910 - f1_m: 0.3217 - val_loss: 0.8146 - val_accuracy: 0.4880 - val_f1_m: 0.2324\n",
      "Epoch 24/100\n",
      "36/36 [==============================] - 2s 52ms/step - loss: 0.5925 - accuracy: 0.6714 - f1_m: 0.3406 - val_loss: 0.7818 - val_accuracy: 0.5280 - val_f1_m: 0.3335\n",
      "Epoch 25/100\n",
      "36/36 [==============================] - 2s 49ms/step - loss: 0.5839 - accuracy: 0.6910 - f1_m: 0.3618 - val_loss: 0.7617 - val_accuracy: 0.5200 - val_f1_m: 0.4538\n",
      "Epoch 26/100\n",
      "36/36 [==============================] - 2s 51ms/step - loss: 0.5890 - accuracy: 0.6963 - f1_m: 0.3554 - val_loss: 0.7655 - val_accuracy: 0.5120 - val_f1_m: 0.4024\n",
      "Epoch 27/100\n",
      "36/36 [==============================] - 2s 51ms/step - loss: 0.5902 - accuracy: 0.6919 - f1_m: 0.3408 - val_loss: 0.7750 - val_accuracy: 0.5120 - val_f1_m: 0.4015\n",
      "Epoch 28/100\n",
      "36/36 [==============================] - 2s 52ms/step - loss: 0.5898 - accuracy: 0.6812 - f1_m: 0.3761 - val_loss: 0.7776 - val_accuracy: 0.5040 - val_f1_m: 0.3470\n",
      "Epoch 29/100\n",
      "36/36 [==============================] - 2s 49ms/step - loss: 0.5811 - accuracy: 0.6919 - f1_m: 0.3618 - val_loss: 0.7929 - val_accuracy: 0.4880 - val_f1_m: 0.2791\n",
      "Epoch 30/100\n",
      "36/36 [==============================] - 2s 52ms/step - loss: 0.5871 - accuracy: 0.6910 - f1_m: 0.3339 - val_loss: 0.7603 - val_accuracy: 0.5280 - val_f1_m: 0.3511\n",
      "Epoch 31/100\n",
      "36/36 [==============================] - 2s 53ms/step - loss: 0.5871 - accuracy: 0.6857 - f1_m: 0.3395 - val_loss: 0.7273 - val_accuracy: 0.5440 - val_f1_m: 0.4934\n",
      "Epoch 32/100\n",
      "36/36 [==============================] - 2s 51ms/step - loss: 0.5867 - accuracy: 0.6874 - f1_m: 0.4288 - val_loss: 0.7830 - val_accuracy: 0.5120 - val_f1_m: 0.3135\n",
      "Epoch 33/100\n",
      "36/36 [==============================] - 2s 50ms/step - loss: 0.5814 - accuracy: 0.7017 - f1_m: 0.3809 - val_loss: 0.7583 - val_accuracy: 0.5680 - val_f1_m: 0.5093\n",
      "Epoch 34/100\n",
      "36/36 [==============================] - 2s 54ms/step - loss: 0.5847 - accuracy: 0.6794 - f1_m: 0.3442 - val_loss: 0.7540 - val_accuracy: 0.5440 - val_f1_m: 0.5274\n",
      "Epoch 35/100\n",
      "36/36 [==============================] - 2s 51ms/step - loss: 0.5855 - accuracy: 0.6946 - f1_m: 0.4163 - val_loss: 0.8137 - val_accuracy: 0.4720 - val_f1_m: 0.1846\n",
      "Epoch 36/100\n",
      "36/36 [==============================] - 2s 54ms/step - loss: 0.5703 - accuracy: 0.7159 - f1_m: 0.4118 - val_loss: 0.7507 - val_accuracy: 0.5440 - val_f1_m: 0.5088\n",
      "Epoch 37/100\n",
      "36/36 [==============================] - 2s 51ms/step - loss: 0.5782 - accuracy: 0.6901 - f1_m: 0.3820 - val_loss: 0.7573 - val_accuracy: 0.5440 - val_f1_m: 0.4898\n",
      "Epoch 38/100\n",
      "36/36 [==============================] - 2s 54ms/step - loss: 0.5733 - accuracy: 0.6999 - f1_m: 0.3667 - val_loss: 0.7618 - val_accuracy: 0.5520 - val_f1_m: 0.5232\n",
      "Epoch 39/100\n",
      "36/36 [==============================] - 2s 52ms/step - loss: 0.5711 - accuracy: 0.7053 - f1_m: 0.4427 - val_loss: 0.7933 - val_accuracy: 0.5040 - val_f1_m: 0.2965\n",
      "Epoch 40/100\n",
      "36/36 [==============================] - 2s 53ms/step - loss: 0.5786 - accuracy: 0.6892 - f1_m: 0.3611 - val_loss: 0.7470 - val_accuracy: 0.5680 - val_f1_m: 0.5052\n",
      "Epoch 41/100\n",
      "36/36 [==============================] - 2s 54ms/step - loss: 0.5792 - accuracy: 0.6999 - f1_m: 0.4355 - val_loss: 0.7773 - val_accuracy: 0.5280 - val_f1_m: 0.3131\n",
      "Epoch 42/100\n",
      "36/36 [==============================] - 2s 52ms/step - loss: 0.5739 - accuracy: 0.6981 - f1_m: 0.4264 - val_loss: 0.7854 - val_accuracy: 0.5200 - val_f1_m: 0.3040\n",
      "Epoch 43/100\n",
      "36/36 [==============================] - 2s 54ms/step - loss: 0.5745 - accuracy: 0.6857 - f1_m: 0.3257 - val_loss: 0.7722 - val_accuracy: 0.5120 - val_f1_m: 0.3917\n",
      "Epoch 44/100\n",
      "36/36 [==============================] - 2s 53ms/step - loss: 0.5643 - accuracy: 0.6981 - f1_m: 0.3954 - val_loss: 0.7799 - val_accuracy: 0.5200 - val_f1_m: 0.3795\n",
      "Epoch 45/100\n",
      "36/36 [==============================] - 2s 55ms/step - loss: 0.5775 - accuracy: 0.6963 - f1_m: 0.4302 - val_loss: 0.8071 - val_accuracy: 0.5120 - val_f1_m: 0.3633\n",
      "Epoch 46/100\n",
      "36/36 [==============================] - 2s 53ms/step - loss: 0.5769 - accuracy: 0.6874 - f1_m: 0.3679 - val_loss: 0.8087 - val_accuracy: 0.4880 - val_f1_m: 0.3022\n",
      "Epoch 47/100\n"
     ]
    },
    {
     "name": "stdout",
     "output_type": "stream",
     "text": [
      "36/36 [==============================] - 2s 48ms/step - loss: 0.5750 - accuracy: 0.6999 - f1_m: 0.4002 - val_loss: 0.7863 - val_accuracy: 0.5040 - val_f1_m: 0.3867\n",
      "Epoch 48/100\n",
      "36/36 [==============================] - 2s 50ms/step - loss: 0.5667 - accuracy: 0.7061 - f1_m: 0.4090 - val_loss: 0.8621 - val_accuracy: 0.4480 - val_f1_m: 0.1653\n",
      "Epoch 49/100\n",
      "36/36 [==============================] - 2s 49ms/step - loss: 0.5635 - accuracy: 0.7017 - f1_m: 0.4031 - val_loss: 0.8841 - val_accuracy: 0.4480 - val_f1_m: 0.1670\n",
      "Epoch 50/100\n",
      "36/36 [==============================] - 2s 50ms/step - loss: 0.5580 - accuracy: 0.7240 - f1_m: 0.4749 - val_loss: 0.8264 - val_accuracy: 0.4720 - val_f1_m: 0.3692\n",
      "Epoch 51/100\n",
      "36/36 [==============================] - 2s 49ms/step - loss: 0.5729 - accuracy: 0.7008 - f1_m: 0.4275 - val_loss: 0.8158 - val_accuracy: 0.4960 - val_f1_m: 0.3902\n",
      "Epoch 52/100\n",
      "36/36 [==============================] - 2s 48ms/step - loss: 0.5566 - accuracy: 0.7079 - f1_m: 0.4447 - val_loss: 0.8574 - val_accuracy: 0.4640 - val_f1_m: 0.2702\n",
      "Epoch 53/100\n",
      "36/36 [==============================] - 2s 49ms/step - loss: 0.5648 - accuracy: 0.7088 - f1_m: 0.4046 - val_loss: 0.8393 - val_accuracy: 0.5040 - val_f1_m: 0.3596\n",
      "Epoch 54/100\n",
      "36/36 [==============================] - 2s 50ms/step - loss: 0.5636 - accuracy: 0.7008 - f1_m: 0.4181 - val_loss: 0.8733 - val_accuracy: 0.4720 - val_f1_m: 0.1860\n",
      "Epoch 55/100\n",
      "36/36 [==============================] - 2s 50ms/step - loss: 0.5584 - accuracy: 0.7061 - f1_m: 0.4300 - val_loss: 0.8678 - val_accuracy: 0.4800 - val_f1_m: 0.2734\n",
      "Epoch 56/100\n",
      "36/36 [==============================] - 2s 50ms/step - loss: 0.5625 - accuracy: 0.7053 - f1_m: 0.4322 - val_loss: 0.8316 - val_accuracy: 0.5200 - val_f1_m: 0.4270\n",
      "Epoch 57/100\n",
      "36/36 [==============================] - 2s 50ms/step - loss: 0.5604 - accuracy: 0.7070 - f1_m: 0.4466 - val_loss: 0.8366 - val_accuracy: 0.4880 - val_f1_m: 0.3673\n",
      "Epoch 58/100\n",
      "36/36 [==============================] - 2s 49ms/step - loss: 0.5522 - accuracy: 0.7222 - f1_m: 0.4576 - val_loss: 0.8568 - val_accuracy: 0.4880 - val_f1_m: 0.3150\n",
      "Epoch 59/100\n",
      "36/36 [==============================] - 2s 51ms/step - loss: 0.5513 - accuracy: 0.7213 - f1_m: 0.4566 - val_loss: 0.7975 - val_accuracy: 0.5280 - val_f1_m: 0.5164\n",
      "Epoch 60/100\n",
      "36/36 [==============================] - 2s 49ms/step - loss: 0.5599 - accuracy: 0.7168 - f1_m: 0.4978 - val_loss: 0.8742 - val_accuracy: 0.4880 - val_f1_m: 0.2692\n",
      "Epoch 61/100\n",
      "36/36 [==============================] - 2s 50ms/step - loss: 0.5659 - accuracy: 0.6981 - f1_m: 0.4470 - val_loss: 0.8199 - val_accuracy: 0.5120 - val_f1_m: 0.3857\n",
      "Epoch 62/100\n",
      "36/36 [==============================] - 2s 51ms/step - loss: 0.5493 - accuracy: 0.7186 - f1_m: 0.4498 - val_loss: 0.8436 - val_accuracy: 0.4960 - val_f1_m: 0.2861\n",
      "Epoch 63/100\n",
      "36/36 [==============================] - 2s 52ms/step - loss: 0.5615 - accuracy: 0.7150 - f1_m: 0.4304 - val_loss: 0.8508 - val_accuracy: 0.5040 - val_f1_m: 0.3150\n",
      "Epoch 64/100\n",
      "36/36 [==============================] - 2s 53ms/step - loss: 0.5449 - accuracy: 0.7275 - f1_m: 0.4709 - val_loss: 0.7960 - val_accuracy: 0.5600 - val_f1_m: 0.4722\n"
     ]
    }
   ],
   "source": [
    "# create LSTM model\n",
    "callback = keras.callbacks.EarlyStopping(monitor='val_f1_m',\n",
    "                                        min_delta=0,\n",
    "                                        patience=30,\n",
    "                                        restore_best_weights=True,\n",
    "                                        mode='max')\n",
    "\n",
    "# INPUT HAS TO BE input_shape(n_examples, timesteps, n_features)\n",
    "\n",
    "\n",
    "# create the model\n",
    "model = Sequential()\n",
    "\n",
    "# CONVOLUTIONAL LAYER\n",
    "\n",
    "#model.add(layers.Conv1D(filters=16, kernel_size=3, padding='same', activation='relu'))\n",
    "#model.add(layers.MaxPooling1D(pool_size=2))\n",
    "\n",
    "# BIDIRECTIONAL LSTM\n",
    "\n",
    "#model.add(layers.Bidirectional(LSTM(100, dropout=0.1, recurrent_dropout=0.1))) # dropout\n",
    "\n",
    "model.add(LSTM(250, dropout=0.1, recurrent_dropout=0.1)) # dropout\n",
    "model.add(Dense(20, activation='sigmoid'))\n",
    "model.add(Dense(1, activation='sigmoid', bias_initializer=output_bias)) #bias_initializer=output_bias -> in Dense\n",
    "\n",
    "model.compile(loss='binary_crossentropy', \n",
    "              optimizer='adam', \n",
    "              metrics=['accuracy', f1_m])\n",
    "\n",
    "#print(model.summary())\n",
    "History=model.fit(X_train, \n",
    "                  y_train, \n",
    "                  epochs=100,\n",
    "                  #validation_data=(X_test, y_test),\n",
    "                  validation_split=0.1,\n",
    "                  callbacks=callback,\n",
    "                  # The class weights go here OPTIONAL\n",
    "                  #class_weight=class_weight,\n",
    "                  shuffle=True)"
   ]
  },
  {
   "cell_type": "code",
   "execution_count": 20,
   "id": "090441d9",
   "metadata": {},
   "outputs": [],
   "source": [
    "#keras.utils.plot_model(model, show_shapes=True)"
   ]
  },
  {
   "cell_type": "code",
   "execution_count": 21,
   "id": "ccab1af4",
   "metadata": {},
   "outputs": [
    {
     "data": {
      "image/png": "[encoded data removed]",
      "text/plain": [
       "<Figure size 1800x600 with 2 Axes>"
      ]
     },
     "metadata": {},
     "output_type": "display_data"
    }
   ],
   "source": [
    "plt.style.use('fivethirtyeight')\n",
    "# Plot the loss and accuracy curves over epochs:\n",
    "fig, axs = plt.subplots(nrows=1, ncols=2, figsize=(18,6))\n",
    "axs[0].plot(History.history['loss'], color='b', label='Training loss')\n",
    "axs[0].plot(History.history['val_loss'], color='r', label='Validation loss')\n",
    "axs[0].set_title(\"Loss curves\")\n",
    "axs[0].legend(loc='best', shadow=True)\n",
    "axs[1].plot(History.history['f1_m'], color='b', label='Training F1 Score')\n",
    "axs[1].plot(History.history['val_f1_m'], color='r', label='Validation F1 Score')\n",
    "axs[1].set_title(\"F1 Score curves\")\n",
    "axs[1].legend(loc='best', shadow=True)\n",
    "plt.show()"
   ]
  },
  {
   "cell_type": "code",
   "execution_count": 22,
   "id": "ebd458e5",
   "metadata": {},
   "outputs": [
    {
     "name": "stdout",
     "output_type": "stream",
     "text": [
      "10/10 [==============================] - 0s 10ms/step\n"
     ]
    }
   ],
   "source": [
    "lstm_pred = model.predict(X_test)\n",
    "\n",
    "thresholds = np.linspace(0, 1, 1000)\n",
    "threshold  = 0\n",
    "best_f1    = 0\n",
    "\n",
    "for k in thresholds:\n",
    "    f1=f1_score([int(i>k) for i in lstm_pred], y_test)\n",
    "    if f1>best_f1:\n",
    "        threshold=k\n",
    "        best_f1=f1"
   ]
  },
  {
   "cell_type": "code",
   "execution_count": 23,
   "id": "893c0537",
   "metadata": {},
   "outputs": [],
   "source": [
    "#lstm_pred = model.predict(X_test)\n",
    "lstm_pred=[int(i>threshold) for i in lstm_pred]   # TUNE THRESHOLD!"
   ]
  },
  {
   "cell_type": "code",
   "execution_count": 24,
   "id": "09e238be",
   "metadata": {},
   "outputs": [
    {
     "name": "stdout",
     "output_type": "stream",
     "text": [
      "              precision    recall  f1-score   support\n",
      "\n",
      "           0       0.47      0.71      0.57       112\n",
      "           1       0.77      0.56      0.65       201\n",
      "\n",
      "    accuracy                           0.61       313\n",
      "   macro avg       0.62      0.63      0.61       313\n",
      "weighted avg       0.67      0.61      0.62       313\n",
      "\n",
      "[[ 79  33]\n",
      " [ 88 113]]\n",
      "\n",
      "Threshold =  0.42842842842842843\n",
      "\n",
      "Best F1 =  0.6512968299711815\n"
     ]
    }
   ],
   "source": [
    "from sklearn.metrics import classification_report, confusion_matrix\n",
    "\n",
    "print(classification_report(lstm_pred, y_test))\n",
    "print(confusion_matrix(lstm_pred, y_test))\n",
    "\n",
    "print('\\nThreshold = ', threshold)\n",
    "print('\\nBest F1 = ', best_f1)"
   ]
  },
  {
   "cell_type": "markdown",
   "id": "c675d512",
   "metadata": {},
   "source": [
    "# CNN Classifier Model"
   ]
  },
  {
   "cell_type": "markdown",
   "id": "f3a855c0",
   "metadata": {},
   "source": [
    "MAYBE USE WEEKLY IN THIS CASE?"
   ]
  },
  {
   "cell_type": "code",
   "execution_count": null,
   "id": "97a88324",
   "metadata": {},
   "outputs": [],
   "source": [
    "X_train.shape"
   ]
  },
  {
   "cell_type": "code",
   "execution_count": null,
   "id": "3b84634e",
   "metadata": {},
   "outputs": [],
   "source": [
    "# create LSTM model\n",
    "callback = keras.callbacks.EarlyStopping(monitor='val_accuracy',\n",
    "                                        min_delta=0,\n",
    "                                        patience=15,\n",
    "                                        restore_best_weights=True,\n",
    "                                        mode='auto')\n",
    "\n",
    "# create the model\n",
    "model = Sequential()\n",
    "model.add(layers.Conv2D(32, 3, activation='softmax', input_shape=(X_train.shape[1], X_train.shape[2], 1)))\n",
    "model.add(layers.MaxPooling2D((2, 2)))\n",
    "model.add(layers.BatchNormalization())\n",
    "model.add(layers.Conv2D(64, 3, activation='softmax'))\n",
    "model.add(layers.MaxPooling2D((2, 2)))\n",
    "model.add(layers.Conv2D(64, 3, activation='softmax'))\n",
    "model.add(layers.Flatten())\n",
    "model.add(layers.Dense(64, activation='softmax'))\n",
    "model.add(layers.Dense(1))\n",
    "\n",
    "model.compile(loss='binary_crossentropy', \n",
    "              optimizer='adam', \n",
    "              metrics=['accuracy', f1_m])\n",
    "\n",
    "print(model.summary())\n",
    "History=model.fit(X_train.reshape(X_train.shape[0], X_train.shape[1], X_train.shape[2], 1), \n",
    "                  y_train, \n",
    "                  epochs=20,\n",
    "                  #validation_data=(X_test.reshape(313, 121, 28, 1), y_test),\n",
    "                  validation_split=0.2,\n",
    "                  callbacks=callback,\n",
    "                  shuffle=True)"
   ]
  },
  {
   "cell_type": "code",
   "execution_count": null,
   "id": "08d89922",
   "metadata": {},
   "outputs": [],
   "source": [
    "plt.style.use('fivethirtyeight')\n",
    "# Plot the loss and accuracy curves over epochs:\n",
    "fig, axs = plt.subplots(nrows=1, ncols=2, figsize=(18,6))\n",
    "axs[0].plot(History.history['loss'], color='b', label='Training loss')\n",
    "axs[0].plot(History.history['val_loss'], color='r', label='Validation loss')\n",
    "axs[0].set_title(\"Loss curves\")\n",
    "axs[0].legend(loc='best', shadow=True)\n",
    "axs[1].plot(History.history['accuracy'], color='b', label='Training accuracy')\n",
    "axs[1].plot(History.history['val_accuracy'], color='r', label='Validation accuracy')\n",
    "axs[1].set_title(\"Accuracy curves\")\n",
    "axs[1].legend(loc='best', shadow=True)\n",
    "plt.show()"
   ]
  },
  {
   "cell_type": "code",
   "execution_count": null,
   "id": "766b9fd7",
   "metadata": {},
   "outputs": [],
   "source": [
    "CNN_pred = model.predict(X_test)\n",
    "CNN_pred=[int(round(float(i), 0)) for i in CNN_pred]"
   ]
  },
  {
   "cell_type": "code",
   "execution_count": null,
   "id": "86aafdad",
   "metadata": {},
   "outputs": [],
   "source": [
    "from sklearn.metrics import classification_report\n",
    "\n",
    "print(classification_report(CNN_pred, y_test))"
   ]
  },
  {
   "cell_type": "markdown",
   "id": "78e1f86e",
   "metadata": {},
   "source": [
    "#  Transformer Classifier Model"
   ]
  },
  {
   "cell_type": "markdown",
   "id": "46881569",
   "metadata": {},
   "source": [
    "From keras website [here](https://keras.io/examples/timeseries/timeseries_transformer_classification/)."
   ]
  },
  {
   "cell_type": "code",
   "execution_count": null,
   "id": "89e15108",
   "metadata": {},
   "outputs": [],
   "source": [
    "n_classes=2"
   ]
  },
  {
   "cell_type": "code",
   "execution_count": null,
   "id": "fdc8c9fc",
   "metadata": {},
   "outputs": [],
   "source": [
    "def transformer_encoder(inputs, head_size, num_heads, ff_dim, dropout=0):\n",
    "    # Normalization and Attention\n",
    "    x = layers.LayerNormalization(epsilon=1e-6)(inputs)\n",
    "    x = layers.MultiHeadAttention(\n",
    "        key_dim=head_size, num_heads=num_heads, dropout=dropout\n",
    "    )(x, x)\n",
    "    x = layers.Dropout(dropout)(x)\n",
    "    res = x + inputs\n",
    "\n",
    "    # Feed Forward Part\n",
    "    x = layers.LayerNormalization(epsilon=1e-6)(res)\n",
    "    x = layers.Conv1D(filters=ff_dim, kernel_size=1, activation=\"relu\")(x)\n",
    "    x = layers.Dropout(dropout)(x)\n",
    "    x = layers.Conv1D(filters=inputs.shape[-1], kernel_size=1)(x)\n",
    "    return x + res"
   ]
  },
  {
   "cell_type": "code",
   "execution_count": null,
   "id": "3c07be37",
   "metadata": {},
   "outputs": [],
   "source": [
    "def build_model(\n",
    "    input_shape,\n",
    "    head_size,\n",
    "    num_heads,\n",
    "    ff_dim,\n",
    "    num_transformer_blocks,\n",
    "    mlp_units,\n",
    "    dropout=0,\n",
    "    mlp_dropout=0,\n",
    "):\n",
    "    inputs = keras.Input(shape=input_shape)\n",
    "    x = inputs\n",
    "    for _ in range(num_transformer_blocks):\n",
    "        x = transformer_encoder(x, head_size, num_heads, ff_dim, dropout)\n",
    "\n",
    "    x = layers.GlobalAveragePooling1D(data_format=\"channels_first\")(x)\n",
    "    for dim in mlp_units:\n",
    "        x = layers.Dense(dim, activation=\"relu\")(x)\n",
    "        x = layers.Dropout(mlp_dropout)(x)\n",
    "    outputs = layers.Dense(n_classes, activation=\"softmax\")(x)\n",
    "    return keras.Model(inputs, outputs)"
   ]
  },
  {
   "cell_type": "code",
   "execution_count": null,
   "id": "1cf293cf",
   "metadata": {},
   "outputs": [],
   "source": [
    "input_shape = X_train.shape[1:]\n",
    "\n",
    "fancy_model = build_model(\n",
    "    input_shape,\n",
    "    head_size=256,\n",
    "    num_heads=4,\n",
    "    ff_dim=4,\n",
    "    num_transformer_blocks=4,\n",
    "    mlp_units=[128],\n",
    "    mlp_dropout=0.4,\n",
    "    dropout=0.25,\n",
    ")\n",
    "\n",
    "model = build_model(\n",
    "    input_shape,\n",
    "    head_size=64,\n",
    "    num_heads=2,\n",
    "    ff_dim=2,\n",
    "    num_transformer_blocks=2,\n",
    "    mlp_units=[32],\n",
    "    mlp_dropout=0.2,\n",
    "    dropout=0.1,\n",
    ")\n",
    "\n",
    "model.compile(\n",
    "    loss=\"sparse_categorical_crossentropy\",\n",
    "    optimizer=keras.optimizers.Adam(learning_rate=1e-1),\n",
    "    metrics=[\"accuracy\", f1_m],\n",
    ")\n",
    "model.summary()\n",
    "\n",
    "callback = keras.callbacks.EarlyStopping(monitor='val_f1_m',\n",
    "                                        min_delta=0,\n",
    "                                        patience=25,\n",
    "                                        restore_best_weights=True,\n",
    "                                        mode='max')\n",
    "\n",
    "History = model.fit(\n",
    "    X_train,\n",
    "    y_train,\n",
    "    validation_split=0.2,\n",
    "    epochs=200,\n",
    "    batch_size=64,\n",
    "    callbacks=callback,\n",
    ")"
   ]
  },
  {
   "cell_type": "code",
   "execution_count": null,
   "id": "35cea377",
   "metadata": {},
   "outputs": [],
   "source": [
    "plt.style.use('fivethirtyeight')\n",
    "# Plot the loss and accuracy curves over epochs:\n",
    "fig, axs = plt.subplots(nrows=1, ncols=2, figsize=(18,6))\n",
    "axs[0].plot(History.history['loss'], color='b', label='Training loss')\n",
    "axs[0].plot(History.history['val_loss'], color='r', label='Validation loss')\n",
    "axs[0].set_title(\"Loss curves\")\n",
    "axs[0].legend(loc='best', shadow=True)\n",
    "axs[1].plot(History.history['accuracy'], color='b', label='Training accuracy')\n",
    "axs[1].plot(History.history['val_accuracy'], color='r', label='Validation accuracy')\n",
    "axs[1].set_title(\"Accuracy curves\")\n",
    "axs[1].legend(loc='best', shadow=True)\n",
    "plt.show()"
   ]
  },
  {
   "cell_type": "code",
   "execution_count": null,
   "id": "ba19b702",
   "metadata": {},
   "outputs": [],
   "source": [
    "trans_pred = model.predict(X_test)\n",
    "trans_pred = np.where(trans_pred[:, 0]>trans_pred[:, 1], 0, 1)"
   ]
  },
  {
   "cell_type": "code",
   "execution_count": null,
   "id": "99efdee4",
   "metadata": {},
   "outputs": [],
   "source": [
    "from sklearn.metrics import classification_report\n",
    "\n",
    "print(classification_report(trans_pred, y_test))"
   ]
  }
 ],
 "metadata": {
  "kernelspec": {
   "display_name": "Python 3 (ipykernel)",
   "language": "python",
   "name": "python3"
  },
  "language_info": {
   "codemirror_mode": {
    "name": "ipython",
    "version": 3
   },
   "file_extension": ".py",
   "mimetype": "text/x-python",
   "name": "python",
   "nbconvert_exporter": "python",
   "pygments_lexer": "ipython3",
   "version": "3.10.10"
  }
 },
 "nbformat": 4,
 "nbformat_minor": 5
}
